{
  "nbformat": 4,
  "nbformat_minor": 0,
  "metadata": {
    "colab": {
      "provenance": [],
      "gpuType": "T4"
    },
    "kernelspec": {
      "name": "python3",
      "display_name": "Python 3"
    },
    "language_info": {
      "name": "python"
    },
    "accelerator": "GPU"
  },
  "cells": [
    {
      "cell_type": "code",
      "execution_count": 1,
      "metadata": {
        "colab": {
          "base_uri": "https://localhost:8080/"
        },
        "id": "s_zexraz-qDC",
        "outputId": "ebf2f864-583b-47a9-9a51-82efb7769add"
      },
      "outputs": [
        {
          "output_type": "stream",
          "name": "stdout",
          "text": [
            "--2023-12-30 07:22:48--  https://raw.githubusercontent.com/karpathy/char-rnn/master/data/tinyshakespeare/input.txt\n",
            "Resolving raw.githubusercontent.com (raw.githubusercontent.com)... 185.199.108.133, 185.199.109.133, 185.199.111.133, ...\n",
            "Connecting to raw.githubusercontent.com (raw.githubusercontent.com)|185.199.108.133|:443... connected.\n",
            "HTTP request sent, awaiting response... 200 OK\n",
            "Length: 1115394 (1.1M) [text/plain]\n",
            "Saving to: ‘input.txt’\n",
            "\n",
            "input.txt           100%[===================>]   1.06M  --.-KB/s    in 0.05s   \n",
            "\n",
            "2023-12-30 07:22:48 (21.3 MB/s) - ‘input.txt’ saved [1115394/1115394]\n",
            "\n"
          ]
        }
      ],
      "source": [
        "#download the tiny shakespeare dataset\n",
        "!wget https://raw.githubusercontent.com/karpathy/char-rnn/master/data/tinyshakespeare/input.txt"
      ]
    },
    {
      "cell_type": "code",
      "source": [
        "text = open('input.txt', 'r', encoding='utf-8').read()"
      ],
      "metadata": {
        "id": "JamUBl2D-wWS"
      },
      "execution_count": 2,
      "outputs": []
    },
    {
      "cell_type": "code",
      "source": [
        "print('length of the dataset in characters:', len(text))"
      ],
      "metadata": {
        "colab": {
          "base_uri": "https://localhost:8080/"
        },
        "id": "FGQ0AxSa_TIo",
        "outputId": "bef4bbd0-6c36-400b-81c7-370ed3d6b128"
      },
      "execution_count": 3,
      "outputs": [
        {
          "output_type": "stream",
          "name": "stdout",
          "text": [
            "length of the dataset in characters: 1115394\n"
          ]
        }
      ]
    },
    {
      "cell_type": "code",
      "source": [
        "print(text[:1000])"
      ],
      "metadata": {
        "colab": {
          "base_uri": "https://localhost:8080/"
        },
        "id": "gX7LbXBD_atI",
        "outputId": "f71fb287-c011-4432-a71b-334d97ed3219"
      },
      "execution_count": 4,
      "outputs": [
        {
          "output_type": "stream",
          "name": "stdout",
          "text": [
            "First Citizen:\n",
            "Before we proceed any further, hear me speak.\n",
            "\n",
            "All:\n",
            "Speak, speak.\n",
            "\n",
            "First Citizen:\n",
            "You are all resolved rather to die than to famish?\n",
            "\n",
            "All:\n",
            "Resolved. resolved.\n",
            "\n",
            "First Citizen:\n",
            "First, you know Caius Marcius is chief enemy to the people.\n",
            "\n",
            "All:\n",
            "We know't, we know't.\n",
            "\n",
            "First Citizen:\n",
            "Let us kill him, and we'll have corn at our own price.\n",
            "Is't a verdict?\n",
            "\n",
            "All:\n",
            "No more talking on't; let it be done: away, away!\n",
            "\n",
            "Second Citizen:\n",
            "One word, good citizens.\n",
            "\n",
            "First Citizen:\n",
            "We are accounted poor citizens, the patricians good.\n",
            "What authority surfeits on would relieve us: if they\n",
            "would yield us but the superfluity, while it were\n",
            "wholesome, we might guess they relieved us humanely;\n",
            "but they think we are too dear: the leanness that\n",
            "afflicts us, the object of our misery, is as an\n",
            "inventory to particularise their abundance; our\n",
            "sufferance is a gain to them Let us revenge this with\n",
            "our pikes, ere we become rakes: for the gods know I\n",
            "speak this in hunger for bread, not in thirst for revenge.\n",
            "\n",
            "\n"
          ]
        }
      ]
    },
    {
      "cell_type": "code",
      "source": [
        "chars = sorted(list(set(text)))\n",
        "vocab_size = len(chars)\n",
        "print(chars)\n",
        "print(vocab_size)"
      ],
      "metadata": {
        "colab": {
          "base_uri": "https://localhost:8080/"
        },
        "id": "PQhAVVnJ_iMD",
        "outputId": "577e9f46-ac60-42f3-b690-0b137afad960"
      },
      "execution_count": 5,
      "outputs": [
        {
          "output_type": "stream",
          "name": "stdout",
          "text": [
            "['\\n', ' ', '!', '$', '&', \"'\", ',', '-', '.', '3', ':', ';', '?', 'A', 'B', 'C', 'D', 'E', 'F', 'G', 'H', 'I', 'J', 'K', 'L', 'M', 'N', 'O', 'P', 'Q', 'R', 'S', 'T', 'U', 'V', 'W', 'X', 'Y', 'Z', 'a', 'b', 'c', 'd', 'e', 'f', 'g', 'h', 'i', 'j', 'k', 'l', 'm', 'n', 'o', 'p', 'q', 'r', 's', 't', 'u', 'v', 'w', 'x', 'y', 'z']\n",
            "65\n"
          ]
        }
      ]
    },
    {
      "cell_type": "code",
      "source": [
        "stoi = {s:i for i, s in enumerate(chars)}\n",
        "itos = {i:s for s, i in stoi.items()}\n",
        "encode = lambda s: [stoi[c] for c in s]\n",
        "decode = lambda l: ''.join([itos[i] for i in l])\n",
        "\n",
        "print(encode(\"hii there\"))\n",
        "print(decode(encode(\"hii there\")))"
      ],
      "metadata": {
        "colab": {
          "base_uri": "https://localhost:8080/"
        },
        "id": "hR_cHewD_x3i",
        "outputId": "836ce601-27dc-4b02-8a6c-84d477f86569"
      },
      "execution_count": 6,
      "outputs": [
        {
          "output_type": "stream",
          "name": "stdout",
          "text": [
            "[46, 47, 47, 1, 58, 46, 43, 56, 43]\n",
            "hii there\n"
          ]
        }
      ]
    },
    {
      "cell_type": "code",
      "source": [
        "import torch\n",
        "data = torch.tensor(encode(text), dtype=torch.long)\n",
        "print(data.shape, data.dtype)\n",
        "print(data[:100])"
      ],
      "metadata": {
        "colab": {
          "base_uri": "https://localhost:8080/"
        },
        "id": "S7V6daEmAfF-",
        "outputId": "bdb99ed4-a0b5-445d-952a-9ec9a8972928"
      },
      "execution_count": 7,
      "outputs": [
        {
          "output_type": "stream",
          "name": "stdout",
          "text": [
            "torch.Size([1115394]) torch.int64\n",
            "tensor([18, 47, 56, 57, 58,  1, 15, 47, 58, 47, 64, 43, 52, 10,  0, 14, 43, 44,\n",
            "        53, 56, 43,  1, 61, 43,  1, 54, 56, 53, 41, 43, 43, 42,  1, 39, 52, 63,\n",
            "         1, 44, 59, 56, 58, 46, 43, 56,  6,  1, 46, 43, 39, 56,  1, 51, 43,  1,\n",
            "        57, 54, 43, 39, 49,  8,  0,  0, 13, 50, 50, 10,  0, 31, 54, 43, 39, 49,\n",
            "         6,  1, 57, 54, 43, 39, 49,  8,  0,  0, 18, 47, 56, 57, 58,  1, 15, 47,\n",
            "        58, 47, 64, 43, 52, 10,  0, 37, 53, 59])\n"
          ]
        }
      ]
    },
    {
      "cell_type": "code",
      "source": [
        "n = int(0.9*len(data))\n",
        "train_data = data[:n]\n",
        "val_data = data[n:]"
      ],
      "metadata": {
        "id": "yHvxiR7mD_i3"
      },
      "execution_count": 8,
      "outputs": []
    },
    {
      "cell_type": "code",
      "source": [
        "block_size = 8\n",
        "x = train_data[:block_size]\n",
        "y = train_data[1:block_size+1]\n",
        "for i in range(block_size):\n",
        "  context = x[:i+1]\n",
        "  target = y[i]\n",
        "  print(f'input {context} and target {target}')"
      ],
      "metadata": {
        "colab": {
          "base_uri": "https://localhost:8080/"
        },
        "id": "8weY_Q-rEmKc",
        "outputId": "ffd9bdfc-04ec-44b3-8708-000124051e76"
      },
      "execution_count": 9,
      "outputs": [
        {
          "output_type": "stream",
          "name": "stdout",
          "text": [
            "input tensor([18]) and target 47\n",
            "input tensor([18, 47]) and target 56\n",
            "input tensor([18, 47, 56]) and target 57\n",
            "input tensor([18, 47, 56, 57]) and target 58\n",
            "input tensor([18, 47, 56, 57, 58]) and target 1\n",
            "input tensor([18, 47, 56, 57, 58,  1]) and target 15\n",
            "input tensor([18, 47, 56, 57, 58,  1, 15]) and target 47\n",
            "input tensor([18, 47, 56, 57, 58,  1, 15, 47]) and target 58\n"
          ]
        }
      ]
    },
    {
      "cell_type": "code",
      "source": [
        "train_data[:block_size+1]"
      ],
      "metadata": {
        "colab": {
          "base_uri": "https://localhost:8080/"
        },
        "id": "A2SDNEFmHC7a",
        "outputId": "084c6f30-7710-41ab-dedc-8f6e2980d5fe"
      },
      "execution_count": 10,
      "outputs": [
        {
          "output_type": "execute_result",
          "data": {
            "text/plain": [
              "tensor([18, 47, 56, 57, 58,  1, 15, 47, 58])"
            ]
          },
          "metadata": {},
          "execution_count": 10
        }
      ]
    },
    {
      "cell_type": "code",
      "source": [
        "n_embd = 384\n",
        "device = 'cuda' if torch.cuda.is_available() else 'cpu'\n",
        "print(device)\n",
        "eval_iters = 200"
      ],
      "metadata": {
        "colab": {
          "base_uri": "https://localhost:8080/"
        },
        "id": "rm9PRnMibKvN",
        "outputId": "21a2fd66-428c-48ee-8e88-9aa7ec1f9f33"
      },
      "execution_count": 11,
      "outputs": [
        {
          "output_type": "stream",
          "name": "stdout",
          "text": [
            "cuda\n"
          ]
        }
      ]
    },
    {
      "cell_type": "code",
      "source": [
        "torch.manual_seed(1337)\n",
        "\n",
        "block_size = 256 # context length\n",
        "batch_size = 64 #how many independent sequences we process in parallel\n",
        "\n",
        "def get_batch(split):\n",
        "  data = train_data if split == 'train' else val_data\n",
        "  idx = torch.randint(len(data) - block_size, (batch_size, ))\n",
        "  X = torch.stack([data[i:i+block_size] for i in idx])\n",
        "  y = torch.stack([data[i+1:i+block_size+1] for i in idx])\n",
        "  X, y = X.to(device), y.to(device)\n",
        "  return X, y\n",
        "\n",
        "\n",
        "\n",
        "Xb, yb = get_batch('train')\n",
        "print(Xb.shape)\n",
        "print(Xb)\n",
        "print(yb.shape)\n",
        "print(yb)"
      ],
      "metadata": {
        "id": "StYKxUsdHNiY",
        "colab": {
          "base_uri": "https://localhost:8080/"
        },
        "outputId": "93ab6b6c-ed82-45ff-eea1-1bfc1b612961"
      },
      "execution_count": 12,
      "outputs": [
        {
          "output_type": "stream",
          "name": "stdout",
          "text": [
            "torch.Size([64, 256])\n",
            "tensor([[ 0, 26, 53,  ..., 56, 43, 47],\n",
            "        [60, 43, 56,  ..., 56,  1, 41],\n",
            "        [26, 21, 33,  ..., 26, 21, 13],\n",
            "        ...,\n",
            "        [ 5, 57,  1,  ...,  1, 35, 47],\n",
            "        [56, 53, 53,  ..., 59, 50, 42],\n",
            "        [42, 47, 56,  ..., 39, 56,  1]], device='cuda:0')\n",
            "torch.Size([64, 256])\n",
            "tensor([[26, 53, 58,  ..., 43, 47, 45],\n",
            "        [43, 56,  1,  ...,  1, 41, 53],\n",
            "        [21, 33, 31,  ..., 21, 13, 10],\n",
            "        ...,\n",
            "        [57,  1, 52,  ..., 35, 47, 50],\n",
            "        [53, 53, 58,  ..., 50, 42,  1],\n",
            "        [47, 56, 43,  ..., 56,  1, 51]], device='cuda:0')\n"
          ]
        }
      ]
    },
    {
      "cell_type": "code",
      "source": [
        "eval_interval = 300"
      ],
      "metadata": {
        "id": "-YMXXMDGehd_"
      },
      "execution_count": 13,
      "outputs": []
    },
    {
      "cell_type": "code",
      "source": [
        "import torch.nn as nn\n",
        "import torch.nn.functional as F"
      ],
      "metadata": {
        "id": "XHBFAlhfzfgA"
      },
      "execution_count": 14,
      "outputs": []
    },
    {
      "cell_type": "code",
      "source": [
        "num_heads = 6\n",
        "n_layer = 6\n",
        "dropout = 0.2"
      ],
      "metadata": {
        "id": "KymiLrG3cBfn"
      },
      "execution_count": 15,
      "outputs": []
    },
    {
      "cell_type": "code",
      "source": [
        "class Head(nn.Module):\n",
        "  ''' One head of self attention '''\n",
        "\n",
        "  def __init__(self, head_size):\n",
        "    super().__init__()\n",
        "    self.key = nn.Linear(n_embd, head_size, bias=False)\n",
        "    self.query = nn.Linear(n_embd, head_size, bias=False)\n",
        "    self.value = nn.Linear(n_embd, head_size, bias=False)\n",
        "    self.register_buffer('tril', torch.tril(torch.ones(block_size, block_size)))\n",
        "\n",
        "    self.dropout = nn.Dropout(dropout)\n",
        "\n",
        "  def forward(self, x):\n",
        "    B,T,C = x.shape\n",
        "    k = self.key(x) # (B, T, C)\n",
        "    q = self.query(x) # (B, T, C)\n",
        "    #compute attention scores (\"affinities\")\n",
        "    wei = q @ k.transpose(-2, -1) * C**-0.5 # (B,T, head_size) @ (B, head_size, T) ---------> (B, T, T)\n",
        "    wei = wei.masked_fill(self.tril[:T, :T] == 0, float('-inf')) # (B, T, T)\n",
        "    wei = F.softmax(wei, dim=-1)\n",
        "    wei = self.dropout(wei)\n",
        "    #performed the weighed aggregation of the values\n",
        "    v = self.value(x)\n",
        "    out = wei @ v\n",
        "    return out"
      ],
      "metadata": {
        "id": "ELW1IH_3zRu5"
      },
      "execution_count": 16,
      "outputs": []
    },
    {
      "cell_type": "code",
      "source": [
        "class MultiHeadAttention(nn.Module):\n",
        "  \"\"\" multiple heads of self-attention in parallel \"\"\"\n",
        "\n",
        "  def __init__(self, num_heads, head_size):\n",
        "    super().__init__()\n",
        "    self.heads = nn.ModuleList([Head(head_size) for _ in range(num_heads)])\n",
        "    self.proj = nn.Linear(n_embd, n_embd)\n",
        "    self.dropout = nn.Dropout(dropout)\n",
        "\n",
        "  def forward(self, x):\n",
        "    out = torch.cat([h(x) for h in self.heads], dim=-1)\n",
        "    out = self.dropout(self.proj(out))\n",
        "    return out"
      ],
      "metadata": {
        "id": "MRMh1sxk1NTW"
      },
      "execution_count": 17,
      "outputs": []
    },
    {
      "cell_type": "code",
      "source": [
        "class FeedForwad(nn.Module):\n",
        "  \"\"\" a simple linear layer followed by a non-linearity \"\"\"\n",
        "\n",
        "  def __init__(self, n_embd):\n",
        "    super().__init__()\n",
        "    self.net = nn.Sequential(\n",
        "        nn.Linear(n_embd, 4 * n_embd),\n",
        "        nn.ReLU(),\n",
        "        nn.Linear(4 * n_embd, n_embd),\n",
        "        nn.Dropout(dropout)\n",
        "    )\n",
        "\n",
        "  def forward(self, x):\n",
        "    return self.net(x)\n",
        ""
      ],
      "metadata": {
        "id": "hh4617sv46Jc"
      },
      "execution_count": 18,
      "outputs": []
    },
    {
      "cell_type": "code",
      "source": [
        "class Block(nn.Module):\n",
        "  \"\"\" Transformer block: communication followed by computation \"\"\"\n",
        "\n",
        "  def __init__(self, n_embd, num_heads):\n",
        "    #n_embd: embedding dimension, n_heads the number of heads we'd like\n",
        "    super().__init__()\n",
        "    head_size = n_embd // num_heads\n",
        "    self.sa = MultiHeadAttention(num_heads, head_size)\n",
        "    self.ffwd = FeedForwad(n_embd)\n",
        "    self.ln1 = nn.LayerNorm(n_embd)\n",
        "    self.ln2 = nn.LayerNorm(n_embd)\n",
        "\n",
        "  def forward(self, x):\n",
        "    x = x + self.sa(self.ln1(x))\n",
        "    x = x + self.ffwd(self.ln2(x))\n",
        "    return x"
      ],
      "metadata": {
        "id": "iswatb9D7akt"
      },
      "execution_count": 19,
      "outputs": []
    },
    {
      "cell_type": "code",
      "source": [
        "torch.manual_seed(1337)\n",
        "\n",
        "class BigramLanguageModel(nn.Module):\n",
        "\n",
        "  def __init__(self):\n",
        "    super().__init__()\n",
        "    self.token_embedding_table = nn.Embedding(vocab_size, n_embd)\n",
        "    self.position_embedding_table = nn.Embedding(block_size, n_embd)\n",
        "    self.blocks = nn.Sequential(*[Block(n_embd, num_heads) for _ in range(n_layer)])\n",
        "    self.ln_f = nn.LayerNorm(n_embd)\n",
        "    #self.sa_heads = MultiHeadAttention(4, n_embd//4)\n",
        "    #self.ffwd = FeedForwad(n_embd)\n",
        "    self.lm_head = nn.Linear(n_embd, vocab_size)\n",
        "\n",
        "  def forward(self, idx, targets=None):\n",
        "    # interpret logits - as the scores for the next character in the sequence\n",
        "    B, T = idx.shape\n",
        "    # idx and targets are both (B,T) tensor of integers\n",
        "    tok_emb = self.token_embedding_table(idx) # (B, T, C)\n",
        "    pos_emb = self.position_embedding_table(torch.arange(T, device=device)) #(T, C)\n",
        "    x = tok_emb + pos_emb # (B, T, C)\n",
        "    x = self.blocks(x) # (B, T, C)\n",
        "    logits = self.lm_head(x) # (B, T, vocab_size)\n",
        "\n",
        "    if targets is None:\n",
        "      loss = None\n",
        "    else:\n",
        "      B, T, C = logits.shape\n",
        "      logits = logits.view(B*T, C)\n",
        "      targets = targets.view(B*T)\n",
        "      loss = F.cross_entropy(logits, targets)\n",
        "    return logits, loss\n",
        "\n",
        "  def generate(self, idx, max_new_tokens):\n",
        "    #idx is. (B, T) tensor of indices in the current context\n",
        "    for i in range(max_new_tokens):\n",
        "      #crop idx to the last block_size tokens\n",
        "      idx_cond = idx[:, -block_size:]\n",
        "      #get predictions\n",
        "      logits, loss = self(idx_cond)\n",
        "      #focus only on the last time step\n",
        "      logits = logits[:, -1, :] # (B, C)\n",
        "      probs = F.softmax(logits, dim=-1) #(B, C)\n",
        "      idx_next = torch.multinomial(probs, num_samples=1) # (B, 1)\n",
        "      #append sampled index to the running sequence\n",
        "      idx = torch.cat((idx, idx_next), dim=1) #(B, T+1)\n",
        "    return idx\n",
        "\n",
        "\n",
        "model = BigramLanguageModel()\n",
        "m = model.to(device)\n",
        "logits, loss = m(Xb, yb)\n",
        "print(logits.shape)\n",
        "print(loss)"
      ],
      "metadata": {
        "colab": {
          "base_uri": "https://localhost:8080/"
        },
        "id": "wTmA4AHzbe2C",
        "outputId": "ed1f5daf-a634-4efb-b6c3-b0ee2a80cc4e"
      },
      "execution_count": 20,
      "outputs": [
        {
          "output_type": "stream",
          "name": "stdout",
          "text": [
            "torch.Size([16384, 65])\n",
            "tensor(4.4857, device='cuda:0', grad_fn=<NllLossBackward0>)\n"
          ]
        }
      ]
    },
    {
      "cell_type": "code",
      "source": [
        "print(decode(m.generate(idx=torch.zeros((1, 1), dtype=torch.long, device=device), max_new_tokens=500)[0].tolist()))"
      ],
      "metadata": {
        "colab": {
          "base_uri": "https://localhost:8080/"
        },
        "id": "iJx6SklxixyU",
        "outputId": "196b9757-2111-430f-8087-2188bb9702b9"
      },
      "execution_count": 21,
      "outputs": [
        {
          "output_type": "stream",
          "name": "stdout",
          "text": [
            "\n",
            "?pvLRCUZ maQJr?F,E.HfmNDhHKHQEuAsA3WW bE,CVgX\n",
            "nO,reYG AQj!\n",
            "..3xfs?r,yLS,SRinHPdGdHSw;kmVSM!WwYCzlLX'koDcnaWqbPEdqZO;mwHKYSqnQcHkecINe-DRJp\n",
            "VrUso&a?bBFTnYi\n",
            "?WivAP!hy\n",
            "tEnaI3AolfVUB.hGHZS:i;;W,S.:xo-oJJ3'u\n",
            "CT?xE;gcL$\n",
            "AiZO\n",
            "sIhiSMkt m\n",
            "YOtgCD!CaHY!oxZIVfxuEDaBZIxizLcAQcJFLhnUDziaB$qU3 NCD vIdNLRBHSUDYB$m3WW$ HOQci-iZHXRCnZ?rDfZ!-K;DNDvjbIinDvFKDeDPK$tXto!jJQ,SkPHDGc'NcFqEQ$htDDIjf$Db'!ucqF3JDBkgXCmjpeA! SUPRHncek DlnQDnqqn;cF!cDIT\n",
            ".CAG&LDDf!cWDnRS$OQzhyFDvH$KZvanDKKiFSF'yzDrTjNXW!DazKJ$hBDHXMZZtTnrBCD\n"
          ]
        }
      ]
    },
    {
      "cell_type": "code",
      "source": [
        "optimizer = torch.optim.AdamW(m.parameters(), lr=3e-4)"
      ],
      "metadata": {
        "id": "BsDk4zTzie8l"
      },
      "execution_count": 22,
      "outputs": []
    },
    {
      "cell_type": "code",
      "source": [
        "@torch.no_grad()\n",
        "def estimate_loss():\n",
        "  out = {}\n",
        "  model.eval()\n",
        "  for split in ['train', 'val']:\n",
        "    losses = torch.zeros(eval_iters)\n",
        "    for k in range(eval_iters):\n",
        "      X, y = get_batch(split)\n",
        "      logits, loss = model(X, y)\n",
        "      losses[k] = loss.item()\n",
        "    out[split] = losses.mean()\n",
        "  model.train()\n",
        "  return out"
      ],
      "metadata": {
        "id": "S02GeNsOgTRS"
      },
      "execution_count": 23,
      "outputs": []
    },
    {
      "cell_type": "code",
      "source": [
        "batch_size = 32\n",
        "\n",
        "for iter in range(5000):\n",
        "\n",
        "  if iter % eval_interval == 0:\n",
        "    losses = estimate_loss()\n",
        "    print(f\"step {iter}: train loss {losses['train']:.4f}, val loss {losses['val']:.4f}\")\n",
        "\n",
        "  Xb, yb = get_batch('train')\n",
        "\n",
        "  #evaluate loss\n",
        "  logits, loss = m(Xb, yb)\n",
        "  optimizer.zero_grad(set_to_none=True)\n",
        "  loss.backward()\n",
        "  optimizer.step()\n",
        "\n"
      ],
      "metadata": {
        "colab": {
          "base_uri": "https://localhost:8080/"
        },
        "id": "uhZDfa_bsjY5",
        "outputId": "e9f71411-67a6-43fa-83f5-fad5aef5712c"
      },
      "execution_count": 24,
      "outputs": [
        {
          "output_type": "stream",
          "name": "stdout",
          "text": [
            "step 0: train loss 4.4749, val loss 4.4704\n",
            "step 300: train loss 2.4228, val loss 2.4520\n",
            "step 600: train loss 2.0784, val loss 2.1491\n",
            "step 900: train loss 1.8290, val loss 1.9541\n",
            "step 1200: train loss 1.6702, val loss 1.8331\n",
            "step 1500: train loss 1.5815, val loss 1.7658\n",
            "step 1800: train loss 1.5123, val loss 1.7020\n",
            "step 2100: train loss 1.4527, val loss 1.6598\n",
            "step 2400: train loss 1.4098, val loss 1.6218\n",
            "step 2700: train loss 1.3756, val loss 1.5985\n",
            "step 3000: train loss 1.3458, val loss 1.5705\n",
            "step 3300: train loss 1.3198, val loss 1.5674\n",
            "step 3600: train loss 1.2940, val loss 1.5367\n",
            "step 3900: train loss 1.2754, val loss 1.5360\n",
            "step 4200: train loss 1.2474, val loss 1.5149\n",
            "step 4500: train loss 1.2308, val loss 1.5065\n",
            "step 4800: train loss 1.2183, val loss 1.5120\n"
          ]
        }
      ]
    },
    {
      "cell_type": "code",
      "source": [
        "print(decode(m.generate(idx=torch.zeros((1, 1), dtype=torch.long, device=device), max_new_tokens=500)[0].tolist()))"
      ],
      "metadata": {
        "colab": {
          "base_uri": "https://localhost:8080/"
        },
        "id": "O3tR3RaYtIYH",
        "outputId": "1cd5706b-2b84-418f-dc96-48aa243fc6bd"
      },
      "execution_count": 25,
      "outputs": [
        {
          "output_type": "stream",
          "name": "stdout",
          "text": [
            "\n",
            "To friar, and beck at his shall ashe found.\n",
            "\n",
            "DUKE OF YORK:\n",
            "The bushet aunt home of coming his crown,\n",
            "And break with his prince; for, then my dear\n",
            "My soul, dogs: is the friend; in't, 'tis but of the\n",
            "secureth her bushed hated of the world,\n",
            "More our perish? Go girl, what of fear. When you so?\n",
            "\n",
            "QUEEN:\n",
            "She's we understry, of bles, the Duke of QYORK:\n",
            "Then grace hath her content.\n",
            "\n",
            "QUEEN ELIZABETH:\n",
            "'Tis a third's here boy.\n",
            "\n",
            "GLOUCESTER:\n",
            "Clarenceiff crown back, the rasher stoke?\n",
            "\n",
            "GRRY BUCY:\n",
            "It may saying \n"
          ]
        }
      ]
    },
    {
      "cell_type": "code",
      "source": [
        "#self-attention version\n",
        "import torch\n",
        "import torch.nn as nn\n",
        "import torch.nn.functional as F\n",
        "torch.manual_seed(1337)\n",
        "B,T,C = 4,8,16\n",
        "x = torch.randn(B,T,C)\n",
        "print(x.shape)\n",
        "\n",
        "#let's see a single Head perform self-attention\n",
        "head_size = 16 # hyperparameter\n",
        "key = nn.Linear(C, head_size, bias=False)\n",
        "query = nn.Linear(C, head_size, bias=False)\n",
        "value = nn.Linear(C, head_size, bias=False)\n",
        "k = key(x) # (B, T, 16)\n",
        "q = query(x) # (B, T, 16)\n",
        "v = value(x) # (B, T, 16)\n",
        "wei = q @ k.transpose(-2, -1) # (B, T, 16) @ (B, 16, T) ----> (B, T, T)\n",
        "\n",
        "tril = torch.tril(torch.ones((T,T)))\n",
        "#wei = torch.zeros((T, T))\n",
        "wei = wei.masked_fill(tril[:T, :T] == 0, float('-inf'))\n",
        "print(wei[1])\n",
        "wei = F.softmax(wei, dim=-1)\n",
        "print(wei[0])\n",
        "out = wei @ v\n",
        "\n",
        "out.shape"
      ],
      "metadata": {
        "colab": {
          "base_uri": "https://localhost:8080/"
        },
        "id": "x0rKFAAO7s4U",
        "outputId": "05ccf9c1-0506-496f-8cc0-2ba8dc702e7f"
      },
      "execution_count": 11,
      "outputs": [
        {
          "output_type": "stream",
          "name": "stdout",
          "text": [
            "torch.Size([4, 8, 16])\n",
            "tensor([[-0.3415,    -inf,    -inf,    -inf,    -inf,    -inf,    -inf,    -inf],\n",
            "        [ 1.2285, -0.8629,    -inf,    -inf,    -inf,    -inf,    -inf,    -inf],\n",
            "        [ 1.7037,  3.1838,  1.9836,    -inf,    -inf,    -inf,    -inf,    -inf],\n",
            "        [ 1.7477, -3.3035,  1.5902, -1.0486,    -inf,    -inf,    -inf,    -inf],\n",
            "        [-5.5747,  1.0614,  2.5805,  3.0092,  0.5576,    -inf,    -inf,    -inf],\n",
            "        [ 2.4124,  0.8532,  0.8213, -1.4395, -0.0863, -0.2398,    -inf,    -inf],\n",
            "        [-1.1077,  1.6303,  1.8502, -0.0631, -0.1566,  0.1737, -0.7321,    -inf],\n",
            "        [ 1.5674,  0.0998, -0.1855,  0.9613,  0.2184, -0.3162, -1.1050, -2.0756]],\n",
            "       grad_fn=<SelectBackward0>)\n",
            "tensor([[1.0000, 0.0000, 0.0000, 0.0000, 0.0000, 0.0000, 0.0000, 0.0000],\n",
            "        [0.6619, 0.3381, 0.0000, 0.0000, 0.0000, 0.0000, 0.0000, 0.0000],\n",
            "        [0.4880, 0.2739, 0.2382, 0.0000, 0.0000, 0.0000, 0.0000, 0.0000],\n",
            "        [0.1467, 0.6208, 0.0226, 0.2100, 0.0000, 0.0000, 0.0000, 0.0000],\n",
            "        [0.1119, 0.2688, 0.0714, 0.4268, 0.1211, 0.0000, 0.0000, 0.0000],\n",
            "        [0.0150, 0.0296, 0.0332, 0.0098, 0.3035, 0.6089, 0.0000, 0.0000],\n",
            "        [0.0151, 0.4970, 0.0067, 0.4165, 0.0066, 0.0536, 0.0045, 0.0000],\n",
            "        [0.0183, 0.0037, 0.2798, 0.0264, 0.0845, 0.0577, 0.2972, 0.2325]],\n",
            "       grad_fn=<SelectBackward0>)\n"
          ]
        },
        {
          "output_type": "execute_result",
          "data": {
            "text/plain": [
              "torch.Size([4, 8, 16])"
            ]
          },
          "metadata": {},
          "execution_count": 11
        }
      ]
    },
    {
      "cell_type": "markdown",
      "source": [
        "Notes:\n",
        "\n",
        "* Attention is a communication mechanism. Can be seen as nodes in a directed graph looking at each other and aggregating information with a weighted sum from all nodes that point to them, with data-dependent weights.\n",
        "\n",
        "* There is no notion of space. Attention simply acts over a set of vectors. This is why we need to positionally encode tokens.\n",
        "\n",
        "* Each example across batch dimension is of course processed completely independently and never \"talk\" to each other\n",
        "\n",
        "* In an \"encoder\" attention block just delete the single line that does masking with tril, allowing all tokens to communicate. This block here is called a \"decoder\" attention block because it has triangular masking, and is usually used in autoregressive settings, like language modeling.\n",
        "\n",
        "* \"self-attention\" just means that the keys and values are produced from the same source as queries. In \"cross-attention\", the queries still get produced from x, but the keys and values come from some other, external source (e.g. an encoder module)\n",
        "\n",
        "* \"Scaled\" attention additional divides wei by 1/sqrt(head_size). This makes it so when input Q,K are unit variance, wei will be unit variance too and Softmax will stay diffuse and not saturate too much. Illustration below"
      ],
      "metadata": {
        "id": "FeHQESjsp8L-"
      }
    },
    {
      "cell_type": "code",
      "source": [
        "class Head(nn.Module):\n",
        "  ''' One head of self attention '''\n",
        "\n",
        "  def __init__(self, head_size):\n",
        "    super().__init__()\n",
        "    self.key = nn.Linear(n_embd, head_size, bias=False)\n",
        "    self.query = nn.Linear(n_embd, head_size, bias=False)\n",
        "    self.value = nn.Linear(n_embd, head_size, bias=False)\n",
        "    self.register_buffer('tril', torch.tril(torch.ones(block_size, block_size)))\n",
        "\n",
        "  def forward(self, x):\n",
        "    B,T,C = x.shape\n",
        "    k = self.key(x) # (B, T, head_size)\n",
        "    q = self.query(x) # (B, T, head_size)\n",
        "    #compute attention scores (\"affinities\")\n",
        "    wei = q @ k.transpose(-2, -1) * head_size**-0.5 # (B,T, head_size) @ (B, head_size, T) ---------> (B, T, T)\n",
        "    wei = wei.masked_fill(self.tril[:T, :T] == 0, float('-inf')) # (B, T, T)\n",
        "    wei = F.softmax(wei, dim=-1)\n",
        "    #performed the weighed aggregation of the values\n",
        "    v = self.value(x)\n",
        "    out = wei @ v\n",
        "    return out"
      ],
      "metadata": {
        "colab": {
          "base_uri": "https://localhost:8080/",
          "height": 242
        },
        "id": "zoQw68xhx0Lk",
        "outputId": "dca76bec-6258-40e2-e292-7422123bcca7"
      },
      "execution_count": 1,
      "outputs": [
        {
          "output_type": "error",
          "ename": "NameError",
          "evalue": "ignored",
          "traceback": [
            "\u001b[0;31m---------------------------------------------------------------------------\u001b[0m",
            "\u001b[0;31mNameError\u001b[0m                                 Traceback (most recent call last)",
            "\u001b[0;32m<ipython-input-1-56757cfbfee7>\u001b[0m in \u001b[0;36m<cell line: 1>\u001b[0;34m()\u001b[0m\n\u001b[0;32m----> 1\u001b[0;31m \u001b[0;32mclass\u001b[0m \u001b[0mHead\u001b[0m\u001b[0;34m(\u001b[0m\u001b[0mnn\u001b[0m\u001b[0;34m.\u001b[0m\u001b[0mModule\u001b[0m\u001b[0;34m)\u001b[0m\u001b[0;34m:\u001b[0m\u001b[0;34m\u001b[0m\u001b[0;34m\u001b[0m\u001b[0m\n\u001b[0m\u001b[1;32m      2\u001b[0m   \u001b[0;34m''' One head of self attention '''\u001b[0m\u001b[0;34m\u001b[0m\u001b[0;34m\u001b[0m\u001b[0m\n\u001b[1;32m      3\u001b[0m \u001b[0;34m\u001b[0m\u001b[0m\n\u001b[1;32m      4\u001b[0m   \u001b[0;32mdef\u001b[0m \u001b[0m__init__\u001b[0m\u001b[0;34m(\u001b[0m\u001b[0mself\u001b[0m\u001b[0;34m,\u001b[0m \u001b[0mhead_size\u001b[0m\u001b[0;34m)\u001b[0m\u001b[0;34m:\u001b[0m\u001b[0;34m\u001b[0m\u001b[0;34m\u001b[0m\u001b[0m\n\u001b[1;32m      5\u001b[0m     \u001b[0msuper\u001b[0m\u001b[0;34m(\u001b[0m\u001b[0;34m)\u001b[0m\u001b[0;34m.\u001b[0m\u001b[0m__init__\u001b[0m\u001b[0;34m(\u001b[0m\u001b[0;34m)\u001b[0m\u001b[0;34m\u001b[0m\u001b[0;34m\u001b[0m\u001b[0m\n",
            "\u001b[0;31mNameError\u001b[0m: name 'nn' is not defined"
          ]
        }
      ]
    }
  ]
}